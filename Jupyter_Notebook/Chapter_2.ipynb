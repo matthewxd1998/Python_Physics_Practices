{
 "cells": [
  {
   "cell_type": "code",
   "execution_count": null,
   "metadata": {},
   "outputs": [],
   "source": [
    "from vpython import *"
   ]
  },
  {
   "cell_type": "code",
   "execution_count": null,
   "metadata": {},
   "outputs": [],
   "source": [
    "test_plot = gdots()\n",
    "test_plot.plot(1,1)\n",
    "test_plot.plot(-1,-1)"
   ]
  },
  {
   "cell_type": "code",
   "execution_count": null,
   "metadata": {},
   "outputs": [],
   "source": [
    "#x0 = 0m, t0 = 0s, v = 0.45m/s, a = -0.01m/s^2, where is the cart after 1.5s\n",
    "#Break it in to small steps,dt=0.1\n",
    "\n",
    "f1 = gcurve()\n",
    "x = 0\n",
    "t = 0\n",
    "v = 0.45\n",
    "a = 0.02\n",
    "dt = 0.25\n",
    "i = 0\n",
    "f1.plot()\n",
    "\n",
    "while t <= 1.5:\n",
    "    print(\"x = {} m at t = {} s\".format(x, t))\n",
    "    if t <= 1.5:\n",
    "        x = x + v*dt + (1/2)*a*dt**2\n",
    "        t += dt\n",
    "        v += a*dt\n",
    "        i +=1\n",
    "    else:\n",
    "        break"
   ]
  },
  {
   "cell_type": "code",
   "execution_count": null,
   "metadata": {},
   "outputs": [],
   "source": []
  }
 ],
 "metadata": {
  "kernelspec": {
   "display_name": "Python 3 (ipykernel)",
   "language": "python",
   "name": "python3"
  },
  "language_info": {
   "codemirror_mode": {
    "name": "ipython",
    "version": 3
   },
   "file_extension": ".py",
   "mimetype": "text/x-python",
   "name": "python",
   "nbconvert_exporter": "python",
   "pygments_lexer": "ipython3",
   "version": "3.9.12"
  },
  "vscode": {
   "interpreter": {
    "hash": "8607d81fc6318cb05ed35a8010608a8fe3010a47ba3e0e927835a55241641039"
   }
  }
 },
 "nbformat": 4,
 "nbformat_minor": 2
}
