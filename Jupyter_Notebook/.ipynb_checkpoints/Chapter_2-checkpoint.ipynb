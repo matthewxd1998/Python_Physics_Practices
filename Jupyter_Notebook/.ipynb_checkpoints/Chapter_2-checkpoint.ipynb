{
 "cells": [
  {
   "cell_type": "code",
   "execution_count": 1,
   "metadata": {},
   "outputs": [
    {
     "data": {
      "text/html": [
       "<div id=\"glowscript\" class=\"glowscript\"></div>"
      ],
      "text/plain": [
       "<IPython.core.display.HTML object>"
      ]
     },
     "metadata": {},
     "output_type": "display_data"
    },
    {
     "data": {
      "application/javascript": [
       "if (typeof Jupyter !== \"undefined\") { window.__context = { glowscript_container: $(\"#glowscript\").removeAttr(\"id\")};}else{ element.textContent = ' ';}"
      ],
      "text/plain": [
       "<IPython.core.display.Javascript object>"
      ]
     },
     "metadata": {},
     "output_type": "display_data"
    }
   ],
   "source": [
    "from vpython import *"
   ]
  },
  {
   "cell_type": "code",
   "execution_count": 3,
   "metadata": {},
   "outputs": [],
   "source": [
    "test_plot = gdots()\n",
    "test_plot.plot(1,1)\n",
    "test_plot.plot(-1,-1)"
   ]
  },
  {
   "cell_type": "code",
   "execution_count": 3,
   "metadata": {},
   "outputs": [
    {
     "name": "stdout",
     "output_type": "stream",
     "text": [
      "x = 0 m at t = 0 s\n",
      "x = 0.113125 m at t = 0.25 s\n",
      "x = 0.22749999999999998 m at t = 0.5 s\n",
      "x = 0.34312499999999996 m at t = 0.75 s\n",
      "x = 0.45999999999999996 m at t = 1.0 s\n",
      "x = 0.578125 m at t = 1.25 s\n",
      "x = 0.6975 m at t = 1.5 s\n"
     ]
    }
   ],
   "source": [
    "#x0 = 0m, t0 = 0s, v = 0.45m/s, a = -0.01m/s^2, where is the cart after 1.5s\n",
    "#Break it in to small steps,dt=0.1\n",
    "\n",
    "f1 = gcurve()\n",
    "x = 0\n",
    "t = 0\n",
    "v = 0.45\n",
    "a = 0.02\n",
    "dt = 0.25\n",
    "i = 0\n",
    "f1.plot()\n",
    "\n",
    "while t <= 1.5:\n",
    "    print(\"x = {} m at t = {} s\".format(x, t))\n",
    "    if t <= 1.5:\n",
    "        x = x + v*dt + (1/2)*a*dt**2\n",
    "        t += dt\n",
    "        v += a*dt\n",
    "        i +=1\n",
    "    else:\n",
    "        break"
   ]
  },
  {
   "cell_type": "code",
   "execution_count": null,
   "metadata": {},
   "outputs": [],
   "source": []
  }
 ],
 "metadata": {
  "kernelspec": {
   "display_name": "Python 3 (ipykernel)",
   "language": "python",
   "name": "python3"
  },
  "language_info": {
   "codemirror_mode": {
    "name": "ipython",
    "version": 3
   },
   "file_extension": ".py",
   "mimetype": "text/x-python",
   "name": "python",
   "nbconvert_exporter": "python",
   "pygments_lexer": "ipython3",
   "version": "3.9.12"
  },
  "vscode": {
   "interpreter": {
    "hash": "8607d81fc6318cb05ed35a8010608a8fe3010a47ba3e0e927835a55241641039"
   }
  }
 },
 "nbformat": 4,
 "nbformat_minor": 2
}
